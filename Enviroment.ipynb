{
 "cells": [
  {
   "cell_type": "code",
   "execution_count": 1,
   "metadata": {},
   "outputs": [
    {
     "name": "stdout",
     "output_type": "stream",
     "text": [
      "pygame 2.5.2 (SDL 2.28.3, Python 3.11.8)\n",
      "Hello from the pygame community. https://www.pygame.org/contribute.html\n"
     ]
    }
   ],
   "source": [
    "import pygame\n",
    "import random"
   ]
  },
  {
   "cell_type": "code",
   "execution_count": 2,
   "metadata": {},
   "outputs": [],
   "source": [
    "WIDTH = 800\n",
    "HEIGHT = 800\n",
    "FPS = 30"
   ]
  },
  {
   "cell_type": "code",
   "execution_count": 3,
   "metadata": {},
   "outputs": [],
   "source": [
    "#colors\n",
    "WHITE= (255,255,255)\n",
    "BLACK= (0,0,0)\n",
    "RED= (255,0,0)\n",
    "GREEN= (0,255,0)\n",
    "BLUE= (0,0,255)"
   ]
  },
  {
   "cell_type": "code",
   "execution_count": 4,
   "metadata": {},
   "outputs": [],
   "source": [
    "pygame.init() # Initialize pygame \n",
    "screen = pygame.display.set_mode((WIDTH,HEIGHT)) #create window.\n",
    "pygame.display.set_caption = (\"RL GAME !\")\n",
    "clock = pygame.time.Clock()"
   ]
  },
  {
   "cell_type": "code",
   "execution_count": 5,
   "metadata": {},
   "outputs": [],
   "source": [
    "# game loop\n",
    "running= True\n",
    "while running:\n",
    "    clock.tick(FPS)\n",
    "\n",
    "    #process input\n",
    "    for event in pygame.event.get():\n",
    "        if event.type== pygame.QUIT:\n",
    "            running= False\n",
    "    #update\n",
    "            \n",
    "    #draw/render\n",
    "    screen.fill(BLUE)\n",
    "    pygame.display.flip() #shows\n",
    "pygame.quit()"
   ]
  },
  {
   "cell_type": "code",
   "execution_count": null,
   "metadata": {},
   "outputs": [],
   "source": []
  }
 ],
 "metadata": {
  "kernelspec": {
   "display_name": "base",
   "language": "python",
   "name": "python3"
  },
  "language_info": {
   "codemirror_mode": {
    "name": "ipython",
    "version": 3
   },
   "file_extension": ".py",
   "mimetype": "text/x-python",
   "name": "python",
   "nbconvert_exporter": "python",
   "pygments_lexer": "ipython3",
   "version": "3.11.8"
  }
 },
 "nbformat": 4,
 "nbformat_minor": 2
}
